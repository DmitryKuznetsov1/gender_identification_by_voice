{
 "cells": [
  {
   "cell_type": "code",
   "execution_count": 1,
   "metadata": {},
   "outputs": [],
   "source": [
    "import numpy as np\n",
    "import python_speech_features as psf\n",
    "from scipy.io.wavfile import read\n",
    "from sklearn.model_selection import train_test_split\n",
    "from sklearn.naive_bayes import GaussianNB\n",
    "from sklearn.metrics import classification_report\n",
    "import pickle\n",
    "\n",
    "from typing import Tuple"
   ]
  },
  {
   "cell_type": "code",
   "execution_count": 2,
   "metadata": {},
   "outputs": [],
   "source": [
    "male_sample = \"A30003X4.wav\"\n",
    "female_sample = \"A30002C4.wav\"\n",
    "\n",
    "male_txt = \"./data/male.txt\"\n",
    "female_txt = \"./data/female.txt\"\n",
    "gender_map = {\"male\": 0, \"female\": 1}"
   ]
  },
  {
   "cell_type": "code",
   "execution_count": 3,
   "metadata": {},
   "outputs": [],
   "source": [
    "def get_gender_filenames(path: str) -> list:\n",
    "    with open(path, \"r\") as f:\n",
    "        filenames = f.read().splitlines()\n",
    "    return filenames"
   ]
  },
  {
   "cell_type": "code",
   "execution_count": 4,
   "metadata": {},
   "outputs": [],
   "source": [
    "male: list = get_gender_filenames(male_txt)\n",
    "female: list = get_gender_filenames(female_txt)\n",
    "genders = {\"male\": male, \"female\": female}"
   ]
  },
  {
   "cell_type": "markdown",
   "metadata": {},
   "source": [
    "# Creating Dataset from files"
   ]
  },
  {
   "cell_type": "code",
   "execution_count": 5,
   "metadata": {},
   "outputs": [
    {
     "name": "stdout",
     "output_type": "stream",
     "text": [
      "[ 4.11934991e+01 -2.38203007e+01 -1.25075425e+01 -9.78714158e+00\n",
      " -7.55524300e+00 -5.24234448e+00 -6.67623883e+00 -3.74060104e-01\n",
      " -3.04456862e+00  4.42509015e+00  4.87760199e+00  5.89183918e+00\n",
      "  1.17648268e-01  6.96143950e+00  7.60777816e-01  3.37629627e+00\n",
      "  2.37996256e-01  2.26000480e+00 -7.83392391e-02  7.86777946e-01\n",
      " -2.09783114e-01  3.24826978e-02  1.74351193e-02 -2.85513283e-02\n",
      " -7.24971332e-02 -1.78644926e-01] \n",
      "\n",
      "Shape: (26,)\n"
     ]
    }
   ],
   "source": [
    "def get_mfcc(filename: str) -> np.ndarray:\n",
    "    samplerate, signal = read(f\"data/wav_data/{filename}\")\n",
    "    MFCCs = psf.mfcc(signal, samplerate, 0.025, 0.01, 26, appendEnergy = False)\n",
    "    mean_mfcc = np.mean(MFCCs, axis=0)\n",
    "    return mean_mfcc\n",
    "\n",
    "mfcc_sample: np.ndarray = get_mfcc(male_sample)\n",
    "print(mfcc_sample, f\"\\n\\nShape: {mfcc_sample.shape}\")"
   ]
  },
  {
   "cell_type": "code",
   "execution_count": 6,
   "metadata": {},
   "outputs": [],
   "source": [
    "def create_dataset(source_dict: dict) -> Tuple[np.ndarray, np.ndarray]:\n",
    "    dataset = []\n",
    "    Y = np.array([])\n",
    "    for gender, filenames in source_dict.items():\n",
    "        for file in filenames:\n",
    "            mfcc = get_mfcc(file)\n",
    "            dataset.append(mfcc)\n",
    "        gender_vector = gender_map[gender] * np.ones(len(filenames))\n",
    "        Y = np.append(Y, gender_vector)\n",
    "    return np.array(dataset), Y"
   ]
  },
  {
   "cell_type": "code",
   "execution_count": 7,
   "metadata": {},
   "outputs": [],
   "source": [
    "X, Y = create_dataset(genders)\n",
    "\n",
    "X_train, X_test, y_train, y_test = train_test_split(X, Y, test_size=0.2, random_state=42)"
   ]
  },
  {
   "cell_type": "code",
   "execution_count": 8,
   "metadata": {},
   "outputs": [],
   "source": [
    "def test_classifier(classifier, test_x, test_y):\n",
    "    \n",
    "    accuracy = classifier.score(test_x,test_y)\n",
    "    print(\"Test accuracy: \", accuracy)\n",
    "\n",
    "    predictions = classifier.predict(test_x)\n",
    "\n",
    "    male_as_female = np.sum(np.logical_and(test_y==1, predictions==0))\n",
    "    female_as_male = np.sum(np.logical_and(test_y==0, predictions==1))\n",
    "    print(\"\\n{:d} males classified as females out of {:.0f}, {:.3f} %\".format(male_as_female, np.sum(test_y==1), 100 * male_as_female / np.sum(test_y==1)))\n",
    "    print(\"{:d} females classified as males out of {:.0f}, {:.3f} %\".format(female_as_male, np.sum(test_y==0), 100 * female_as_male / np.sum(test_y==0)))\n",
    "\n",
    "    print(classification_report(test_y, predictions))"
   ]
  },
  {
   "cell_type": "markdown",
   "metadata": {},
   "source": [
    "# Creating and training a **GaussianNB**"
   ]
  },
  {
   "cell_type": "code",
   "execution_count": 9,
   "metadata": {},
   "outputs": [
    {
     "name": "stdout",
     "output_type": "stream",
     "text": [
      "Training Accuracy :  0.982\n",
      "Test accuracy:  1.0\n",
      "\n",
      "0 males classified as females out of 19, 0.000 %\n",
      "0 females classified as males out of 22, 0.000 %\n",
      "              precision    recall  f1-score   support\n",
      "\n",
      "         0.0       1.00      1.00      1.00        22\n",
      "         1.0       1.00      1.00      1.00        19\n",
      "\n",
      "    accuracy                           1.00        41\n",
      "   macro avg       1.00      1.00      1.00        41\n",
      "weighted avg       1.00      1.00      1.00        41\n",
      "\n"
     ]
    }
   ],
   "source": [
    "model = GaussianNB()\n",
    "model.fit(X_train, y_train)\n",
    "\n",
    "train_accuracy = model.score(X_train, y_train)\n",
    "print(\"Training Accuracy : \", round(train_accuracy, 3))\n",
    "test_classifier(model, X_test, y_test)"
   ]
  },
  {
   "cell_type": "markdown",
   "metadata": {},
   "source": [
    "# Save model"
   ]
  },
  {
   "cell_type": "code",
   "execution_count": 10,
   "metadata": {},
   "outputs": [],
   "source": [
    "filename = 'GaussianNB.sav'\n",
    "pickle.dump(model, open(filename, 'wb'))"
   ]
  },
  {
   "cell_type": "code",
   "execution_count": null,
   "metadata": {},
   "outputs": [],
   "source": []
  }
 ],
 "metadata": {
  "kernelspec": {
   "display_name": "Python 3",
   "language": "python",
   "name": "python3"
  },
  "language_info": {
   "codemirror_mode": {
    "name": "ipython",
    "version": 3
   },
   "file_extension": ".py",
   "mimetype": "text/x-python",
   "name": "python",
   "nbconvert_exporter": "python",
   "pygments_lexer": "ipython3",
   "version": "3.8.10"
  }
 },
 "nbformat": 4,
 "nbformat_minor": 4
}
